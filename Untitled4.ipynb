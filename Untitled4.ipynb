{
  "nbformat": 4,
  "nbformat_minor": 0,
  "metadata": {
    "colab": {
      "name": "Untitled4.ipynb",
      "provenance": []
    },
    "kernelspec": {
      "name": "python3",
      "display_name": "Python 3"
    }
  },
  "cells": [
    {
      "cell_type": "code",
      "metadata": {
        "id": "8ypfoZzFQAg-",
        "colab_type": "code",
        "colab": {}
      },
      "source": [
        "\n",
        "import pandas as pd  \n",
        "column_names = ['user_id', 'item_id', 'rating', 'timestamp'] \n",
        "path = 'https://cdncontribute.geeksforgeeks.org/wp-content/uploads/file.tsv'\n",
        "df = pd.read_csv(path, sep='\\t', names=column_names) \n",
        "df.head() \n"
      ],
      "execution_count": 0,
      "outputs": []
    },
    {
      "cell_type": "code",
      "metadata": {
        "id": "hJzFhrDGUlq2",
        "colab_type": "code",
        "colab": {}
      },
      "source": [
        "movie_titles = pd.read_csv('https://cdncontribute.geeksforgeeks.org/wp-content/uploads/Movie_Id_Titles.csv') \n",
        "movie_titles.head() \n"
      ],
      "execution_count": 0,
      "outputs": []
    },
    {
      "cell_type": "code",
      "metadata": {
        "id": "sgaGyEy1Uu2V",
        "colab_type": "code",
        "colab": {}
      },
      "source": [
        "data = pd.merge(df, movie_titles, on='item_id') \n",
        "data.head() \n"
      ],
      "execution_count": 0,
      "outputs": []
    },
    {
      "cell_type": "code",
      "metadata": {
        "id": "COI68vc_U25u",
        "colab_type": "code",
        "colab": {}
      },
      "source": [
        "data.groupby('title')['rating'].mean().sort_values(ascending=False).head() \n"
      ],
      "execution_count": 0,
      "outputs": []
    },
    {
      "cell_type": "code",
      "metadata": {
        "id": "TAqmMoPEU9UD",
        "colab_type": "code",
        "colab": {}
      },
      "source": [
        "data.groupby('title')['rating'].count().sort_values(ascending=False).head() \n"
      ],
      "execution_count": 0,
      "outputs": []
    },
    {
      "cell_type": "code",
      "metadata": {
        "id": "ohFYmKuTVHKa",
        "colab_type": "code",
        "colab": {}
      },
      "source": [
        "ratings = pd.DataFrame(data.groupby('title')['rating'].mean()) \n",
        "\n",
        "ratings['num of ratings'] = pd.DataFrame(data.groupby('title')['rating'].count()) \n",
        "\n",
        "ratings.head() \n"
      ],
      "execution_count": 0,
      "outputs": []
    },
    {
      "cell_type": "code",
      "metadata": {
        "id": "6R1pAQksVOVh",
        "colab_type": "code",
        "colab": {}
      },
      "source": [
        "import matplotlib.pyplot as plt \n",
        "import seaborn as sns \n",
        "\n",
        "sns.set_style('white') \n",
        "%matplotlib inline \n"
      ],
      "execution_count": 0,
      "outputs": []
    },
    {
      "cell_type": "code",
      "metadata": {
        "id": "838L3H_aVS69",
        "colab_type": "code",
        "colab": {}
      },
      "source": [
        "plt.figure(figsize =(10, 4)) \n",
        "ratings['num of ratings'].hist(bins = 70) \n"
      ],
      "execution_count": 0,
      "outputs": []
    },
    {
      "cell_type": "code",
      "metadata": {
        "id": "0GLadJdsVZl-",
        "colab_type": "code",
        "colab": {}
      },
      "source": [
        "plt.figure(figsize =(10, 4)) \n",
        "ratings['rating'].hist(bins = 70) \n"
      ],
      "execution_count": 0,
      "outputs": []
    },
    {
      "cell_type": "code",
      "metadata": {
        "id": "84Myd0AjVfqv",
        "colab_type": "code",
        "colab": {}
      },
      "source": [
        "moviemat = data.pivot_table(index ='user_id', \n",
        "\t\t\tcolumns ='title', values ='rating') \n",
        "\n",
        "moviemat.head() \n",
        "\n",
        "ratings.sort_values('num of ratings', ascending = False).head(10) \n"
      ],
      "execution_count": 0,
      "outputs": []
    },
    {
      "cell_type": "code",
      "metadata": {
        "id": "ICY2BnxfVmyV",
        "colab_type": "code",
        "colab": {}
      },
      "source": [
        "starwars_user_ratings = moviemat['Star Wars (1977)'] \n",
        "liarliar_user_ratings = moviemat['Liar Liar (1997)'] \n",
        "\n",
        "starwars_user_ratings.head() \n"
      ],
      "execution_count": 0,
      "outputs": []
    },
    {
      "cell_type": "code",
      "metadata": {
        "id": "fjAbSaJaVuDx",
        "colab_type": "code",
        "colab": {}
      },
      "source": [
        "similar_to_starwars = moviemat.corrwith(starwars_user_ratings) \n",
        "similar_to_liarliar = moviemat.corrwith(liarliar_user_ratings) \n",
        "\n",
        "corr_starwars = pd.DataFrame(similar_to_starwars, columns =['Correlation']) \n",
        "corr_starwars.dropna(inplace = True) \n",
        "\n",
        "corr_starwars.head() \n"
      ],
      "execution_count": 0,
      "outputs": []
    },
    {
      "cell_type": "code",
      "metadata": {
        "id": "a_cux43lV3-V",
        "colab_type": "code",
        "colab": {}
      },
      "source": [
        "corr_starwars.sort_values('Correlation', ascending = False).head(10) \n",
        "corr_starwars = corr_starwars.join(ratings['num of ratings']) \n",
        "\n",
        "corr_starwars.head() \n",
        "\n",
        "corr_starwars[corr_starwars['num of ratings']>100].sort_values('Correlation', ascending = False).head() \n"
      ],
      "execution_count": 0,
      "outputs": []
    },
    {
      "cell_type": "code",
      "metadata": {
        "id": "yGrEhQb3WBs_",
        "colab_type": "code",
        "colab": {}
      },
      "source": [
        "corr_liarliar = pd.DataFrame(similar_to_liarliar, columns =['Correlation']) \n",
        "corr_liarliar.dropna(inplace = True) \n",
        "\n",
        "corr_liarliar = corr_liarliar.join(ratings['num of ratings']) \n",
        "corr_liarliar[corr_liarliar['num of ratings']>100].sort_values('Correlation', ascending = False).head() \n"
      ],
      "execution_count": 0,
      "outputs": []
    }
  ]
}